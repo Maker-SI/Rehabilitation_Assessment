{
 "cells": [
  {
   "cell_type": "code",
   "execution_count": 1,
   "metadata": {},
   "outputs": [
    {
     "ename": "ModuleNotFoundError",
     "evalue": "No module named 'software'",
     "output_type": "error",
     "traceback": [
      "\u001b[0;31m---------------------------------------------------------------------------\u001b[0m",
      "\u001b[0;31mModuleNotFoundError\u001b[0m                       Traceback (most recent call last)",
      "\u001b[1;32m/home/huigang/codespace/Rehabilitation_Assessment/software/ipynb/dtw.ipynb Cell 1'\u001b[0m in \u001b[0;36m<module>\u001b[0;34m\u001b[0m\n\u001b[1;32m      <a href='vscode-notebook-cell://wsl%2Bubuntu/home/huigang/codespace/Rehabilitation_Assessment/software/ipynb/dtw.ipynb#ch0000000vscode-remote?line=4'>5</a>\u001b[0m \u001b[39mimport\u001b[39;00m \u001b[39mplotly\u001b[39;00m\u001b[39m.\u001b[39;00m\u001b[39mexpress\u001b[39;00m \u001b[39mas\u001b[39;00m \u001b[39mpx\u001b[39;00m\n\u001b[1;32m      <a href='vscode-notebook-cell://wsl%2Bubuntu/home/huigang/codespace/Rehabilitation_Assessment/software/ipynb/dtw.ipynb#ch0000000vscode-remote?line=5'>6</a>\u001b[0m \u001b[39mfrom\u001b[39;00m \u001b[39msklearn\u001b[39;00m\u001b[39m.\u001b[39;00m\u001b[39mmetrics\u001b[39;00m \u001b[39mimport\u001b[39;00m r2_score\n\u001b[0;32m----> <a href='vscode-notebook-cell://wsl%2Bubuntu/home/huigang/codespace/Rehabilitation_Assessment/software/ipynb/dtw.ipynb#ch0000000vscode-remote?line=6'>7</a>\u001b[0m \u001b[39mfrom\u001b[39;00m \u001b[39msoftware\u001b[39;00m\u001b[39m.\u001b[39;00m\u001b[39mscript\u001b[39;00m\u001b[39m.\u001b[39;00m\u001b[39mextractEigen\u001b[39;00m \u001b[39mimport\u001b[39;00m Eigen\n",
      "\u001b[0;31mModuleNotFoundError\u001b[0m: No module named 'software'"
     ]
    }
   ],
   "source": [
    "import fastdtw\n",
    "import numpy as np\n",
    "import pandas as pd\n",
    "import streamlit as st\n",
    "import plotly.express as px\n",
    "from sklearn.metrics import r2_score\n",
    "from software.script.extractEigen import Eigen\n"
   ]
  },
  {
   "cell_type": "code",
   "execution_count": null,
   "metadata": {},
   "outputs": [],
   "source": [
    "normalData = Eigen(\n",
    "    'software/data/BVH/康复恢复动作/drink_water/normal.bvh', 'RightShoulder', ['x', 'y', 'z'])\n",
    "patientData = Eigen(\n",
    "    'software/data/BVH/康复恢复动作/drink_water/patient.bvh', 'RightShoulder', ['x', 'y', 'z'])\n"
   ]
  },
  {
   "cell_type": "code",
   "execution_count": null,
   "metadata": {},
   "outputs": [],
   "source": []
  }
 ],
 "metadata": {
  "interpreter": {
   "hash": "cfb0063b078428af3ac763b1abc16064b1adc4526b7bd8b7fe128c51ab3f7acc"
  },
  "kernelspec": {
   "display_name": "Python 3.10.0 ('bvh')",
   "language": "python",
   "name": "python3"
  },
  "language_info": {
   "codemirror_mode": {
    "name": "ipython",
    "version": 3
   },
   "file_extension": ".py",
   "mimetype": "text/x-python",
   "name": "python",
   "nbconvert_exporter": "python",
   "pygments_lexer": "ipython3",
   "version": "3.10.0"
  },
  "orig_nbformat": 4
 },
 "nbformat": 4,
 "nbformat_minor": 2
}
